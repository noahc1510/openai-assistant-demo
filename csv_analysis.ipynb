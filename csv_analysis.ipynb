{
 "cells": [
  {
   "cell_type": "code",
   "execution_count": 2,
   "id": "initial_id",
   "metadata": {
    "ExecuteTime": {
     "end_time": "2023-11-24T00:57:13.665308Z",
     "start_time": "2023-11-24T00:57:12.905756Z"
    },
    "collapsed": true
   },
   "outputs": [],
   "source": [
    "import openai\n",
    "\n",
    "apikey = <your-apikey>\n",
    "openai.api_key = apikey\n",
    "client = openai.Client(api_key=apikey)"
   ]
  },
  {
   "cell_type": "code",
   "execution_count": 3,
   "id": "35ec2debbf8561f0",
   "metadata": {
    "ExecuteTime": {
     "end_time": "2023-11-24T00:57:16.353015Z",
     "start_time": "2023-11-24T00:57:13.667713Z"
    },
    "collapsed": false
   },
   "outputs": [],
   "source": [
    "file = client.files.create(\n",
    "    file=open(\"Financials Sample Data Sample.csv\", \"rb\"),\n",
    "    purpose='assistants'\n",
    ")"
   ]
  },
  {
   "cell_type": "code",
   "execution_count": 4,
   "id": "48d6724989c34ff2",
   "metadata": {
    "ExecuteTime": {
     "end_time": "2023-11-24T00:57:16.373629Z",
     "start_time": "2023-11-24T00:57:16.362260Z"
    },
    "collapsed": false
   },
   "outputs": [
    {
     "data": {
      "text/plain": [
       "<openai.OpenAI at 0x7f927b291d80>"
      ]
     },
     "execution_count": 4,
     "metadata": {},
     "output_type": "execute_result"
    }
   ],
   "source": [
    "client"
   ]
  },
  {
   "cell_type": "code",
   "execution_count": 5,
   "id": "37c1b916c46b60d5",
   "metadata": {
    "ExecuteTime": {
     "end_time": "2023-11-24T00:57:16.408612Z",
     "start_time": "2023-11-24T00:57:16.369407Z"
    },
    "collapsed": false
   },
   "outputs": [
    {
     "data": {
      "text/plain": [
       "FileObject(id='file-mZIVfKmm8MsKKGprn3dFFGcA', bytes=2121, created_at=1700787434, filename='Financials Sample Data Sample.csv', object='file', purpose='assistants', status='processed', status_details=None)"
      ]
     },
     "execution_count": 5,
     "metadata": {},
     "output_type": "execute_result"
    }
   ],
   "source": [
    "file"
   ]
  },
  {
   "cell_type": "code",
   "execution_count": 6,
   "id": "e1ca736103bf93a6",
   "metadata": {
    "ExecuteTime": {
     "end_time": "2023-11-24T00:57:16.987586Z",
     "start_time": "2023-11-24T00:57:16.382180Z"
    },
    "collapsed": false
   },
   "outputs": [],
   "source": [
    "assistant = client.beta.assistants.create(\n",
    "    name=\"Data visualizer\",\n",
    "    # description=\"You are great at creating beautiful data visualizations. You analyze data present in .csv files, understand trends, and come up with data visualizations relevant to those trends. You also share a brief text summary of the trends observed.\",\n",
    "    description=\"You are great at creating beautiful data analysis. You analyze data present in .csv files, understand trends. You can share a brief text summary of the trends observed.\",\n",
    "    model=\"gpt-4-1106-preview\",\n",
    "    tools=[{\"type\": \"code_interpreter\"}],\n",
    "    file_ids=[file.id]\n",
    ")"
   ]
  },
  {
   "cell_type": "code",
   "execution_count": 7,
   "id": "f4c0ff954008a654",
   "metadata": {
    "ExecuteTime": {
     "end_time": "2023-11-24T00:57:16.998244Z",
     "start_time": "2023-11-24T00:57:16.988134Z"
    },
    "collapsed": false
   },
   "outputs": [
    {
     "data": {
      "text/plain": [
       "Assistant(id='asst_ZdS8Xgm3kHX1J4fbM45e7uMc', created_at=1700787436, description='You are great at creating beautiful data analyzing. You analyze data present in .csv files, understand trends. You can share a brief text summary of the trends observed.', file_ids=['file-mZIVfKmm8MsKKGprn3dFFGcA'], instructions=None, metadata={}, model='gpt-4-1106-preview', name='Data visualizer', object='assistant', tools=[ToolCodeInterpreter(type='code_interpreter')])"
      ]
     },
     "execution_count": 7,
     "metadata": {},
     "output_type": "execute_result"
    }
   ],
   "source": [
    "assistant"
   ]
  },
  {
   "cell_type": "code",
   "execution_count": 8,
   "id": "15ee17c0545b20bd",
   "metadata": {
    "ExecuteTime": {
     "end_time": "2023-11-24T00:57:17.799241Z",
     "start_time": "2023-11-24T00:57:17.000415Z"
    },
    "collapsed": false
   },
   "outputs": [],
   "source": [
    "thread = client.beta.threads.create(\n",
    "    messages=[\n",
    "        {\n",
    "            \"role\": \"user\",\n",
    "            # \"content\": \"Create 3 data visualizations based on the trends in this file.\",\n",
    "            \"content\": \"分析一下这个文件\",\n",
    "            \"file_ids\": [file.id]\n",
    "        }\n",
    "    ]\n",
    ")"
   ]
  },
  {
   "cell_type": "code",
   "execution_count": 9,
   "id": "24fbb6c4429aab22",
   "metadata": {
    "ExecuteTime": {
     "end_time": "2023-11-24T00:57:18.108935Z",
     "start_time": "2023-11-24T00:57:17.803807Z"
    },
    "collapsed": false
   },
   "outputs": [],
   "source": [
    "thread = client.beta.threads.create()"
   ]
  },
  {
   "cell_type": "code",
   "execution_count": 10,
   "id": "671dd0e88849e0e4",
   "metadata": {
    "ExecuteTime": {
     "end_time": "2023-11-24T00:57:18.625408Z",
     "start_time": "2023-11-24T00:57:18.111695Z"
    },
    "collapsed": false
   },
   "outputs": [],
   "source": [
    "message = client.beta.threads.messages.create(\n",
    "    thread_id=thread.id,\n",
    "    role=\"user\",\n",
    "    content=\"Create 3 data visualizations based on the trends in this file.\",\n",
    "    file_ids=[file.id]\n",
    ")"
   ]
  },
  {
   "cell_type": "code",
   "execution_count": 11,
   "id": "5bc622e36b869391",
   "metadata": {
    "ExecuteTime": {
     "end_time": "2023-11-24T00:57:19.621997Z",
     "start_time": "2023-11-24T00:57:18.628605Z"
    },
    "collapsed": false
   },
   "outputs": [],
   "source": [
    "run = client.beta.threads.runs.create(\n",
    "    thread_id=thread.id,\n",
    "    assistant_id=assistant.id,\n",
    "    instructions=\"\"\n",
    ")"
   ]
  },
  {
   "cell_type": "code",
   "execution_count": 43,
   "id": "d56258f9dd71a391",
   "metadata": {
    "ExecuteTime": {
     "end_time": "2023-11-24T01:18:36.717141Z",
     "start_time": "2023-11-24T01:18:34.089408Z"
    },
    "collapsed": false
   },
   "outputs": [
    {
     "name": "stdout",
     "output_type": "stream",
     "text": [
      "File downloaded successfully.\n",
      "It looks like we've encountered an error because the pie chart does not allow negative values. To resolve this, we should consider only the expenses (absolute values) since the dataset represents expenses as negative numbers.\n",
      "\n",
      "I will correct this and generate the pie chart again with the absolute values of expenses for December 2012.\n",
      "resp: None\n"
     ]
    },
    {
     "data": {
      "image/png": "[encoded data removed]",
      "text/plain": [
       "<Figure size 640x480 with 1 Axes>"
      ]
     },
     "metadata": {},
     "output_type": "display_data"
    }
   ],
   "source": [
    "import time\n",
    "from matplotlib import pyplot as plt\n",
    "from PIL import Image\n",
    "\n",
    "result = None\n",
    "while True:\n",
    "    # 查询消息的状态\n",
    "    run = client.beta.threads.runs.retrieve(\n",
    "        thread_id=thread.id,\n",
    "        run_id=run.id\n",
    "    )\n",
    "    # 如果状态完成，则获取结果，break\n",
    "    if run.status == \"completed\":\n",
    "        messages = client.beta.threads.messages.list(thread_id=thread.id)\n",
    "        for c in messages.data[0].content:\n",
    "            if type(c) == openai.types.beta.threads.message_content_image_file.MessageContentImageFile:\n",
    "                api_response = client.files.with_raw_response.retrieve_content(\n",
    "                    messages.data[0].content[0].image_file.file_id)\n",
    "\n",
    "                if api_response.status_code == 200:\n",
    "                    content = api_response.content\n",
    "                    with open('image.png', 'wb') as f:\n",
    "                        f.write(content)\n",
    "                    print('File downloaded successfully.')\n",
    "                img = Image.open(\"image.png\")\n",
    "                plt.imshow(img)\n",
    "            elif type(c) == openai.types.beta.threads.message_content_text.MessageContentText:\n",
    "                print(messages.data[1].content[0].text.value)\n",
    "            else:\n",
    "                raise NotImplementedError(f\"Message type not implemented, {type(c)}\")\n",
    "        break\n",
    "    # 继续请求\n",
    "    time.sleep(10)\n",
    "    print(f\"still waiting for the respone, status: {run.status}\")\n",
    "\n",
    "# print(f\"resp: {result}\")"
   ]
  },
  {
   "cell_type": "code",
   "execution_count": 28,
   "id": "5ece7fe66256a78e",
   "metadata": {
    "ExecuteTime": {
     "end_time": "2023-11-24T01:08:10.871943Z",
     "start_time": "2023-11-24T01:08:10.861578Z"
    },
    "collapsed": false
   },
   "outputs": [
    {
     "name": "stdout",
     "output_type": "stream",
     "text": [
      "[MessageContentImageFile(image_file=ImageFile(file_id='file-FOuR9a557f0MUy5ao4v6S5RE'), type='image_file'), MessageContentText(text=Text(annotations=[], value='Here is the pie chart showing the breakdown of total expenses by account category for December 2012. Each slice represents an expense account, and its size indicates the proportion of expenses that the account constitutes.\\n\\nLastly, let\\'s create a bar chart showing the yearly trend for the \"Sales\" account across each month.'), type='text')]\n"
     ]
    }
   ],
   "source": [
    " # print(messages.data[0].content)"
   ]
  },
  {
   "cell_type": "code",
   "execution_count": 22,
   "id": "11d7268f208cb73f",
   "metadata": {
    "ExecuteTime": {
     "end_time": "2023-11-24T01:05:57.800403Z",
     "start_time": "2023-11-24T01:05:56.551371Z"
    },
    "collapsed": false
   },
   "outputs": [
    {
     "name": "stdout",
     "output_type": "stream",
     "text": [
      "File downloaded successfully.\n"
     ]
    }
   ],
   "source": [
    "# api_response = client.files.with_raw_response.retrieve_content(messages.data[0].content[0].image_file.file_id)\n",
    "# \n",
    "# if api_response.status_code == 200:\n",
    "#     content = api_response.content\n",
    "#     with open('image.png', 'wb') as f:\n",
    "#         f.write(content)\n",
    "#     print('File downloaded successfully.')"
   ]
  },
  {
   "cell_type": "code",
   "execution_count": 26,
   "id": "d9eab79d174f6d8b",
   "metadata": {
    "ExecuteTime": {
     "end_time": "2023-11-24T01:07:09.296616Z",
     "start_time": "2023-11-24T01:07:09.287270Z"
    },
    "collapsed": false
   },
   "outputs": [
    {
     "data": {
      "text/plain": [
       "ThreadMessage(id='msg_J1Cli9Lw2Kul3W3TJsPbdAZA', assistant_id='asst_ZdS8Xgm3kHX1J4fbM45e7uMc', content=[MessageContentImageFile(image_file=ImageFile(file_id='file-FOuR9a557f0MUy5ao4v6S5RE'), type='image_file'), MessageContentText(text=Text(annotations=[], value='Here is the pie chart showing the breakdown of total expenses by account category for December 2012. Each slice represents an expense account, and its size indicates the proportion of expenses that the account constitutes.\\n\\nLastly, let\\'s create a bar chart showing the yearly trend for the \"Sales\" account across each month.'), type='text')], created_at=1700787510, file_ids=[], metadata={}, object='thread.message', role='assistant', run_id='run_JALtpMsUrjgOmoJZWE8RCgO4', thread_id='thread_a5V5FzTeMXQWBab2EiYbzqo4')"
      ]
     },
     "execution_count": 26,
     "metadata": {},
     "output_type": "execute_result"
    }
   ],
   "source": [
    "# messages.data[0]"
   ]
  },
  {
   "cell_type": "code",
   "execution_count": 42,
   "id": "67e9d59d54e84565",
   "metadata": {
    "ExecuteTime": {
     "end_time": "2023-11-24T01:18:22.682260Z",
     "start_time": "2023-11-24T01:18:22.671978Z"
    },
    "collapsed": false
   },
   "outputs": [
    {
     "data": {
      "text/plain": [
       "\"It looks like we've encountered an error because the pie chart does not allow negative values. To resolve this, we should consider only the expenses (absolute values) since the dataset represents expenses as negative numbers.\\n\\nI will correct this and generate the pie chart again with the absolute values of expenses for December 2012.\""
      ]
     },
     "execution_count": 42,
     "metadata": {},
     "output_type": "execute_result"
    }
   ],
   "source": [
    "# messages.data[1].content[0].text.value"
   ]
  },
  {
   "cell_type": "code",
   "execution_count": 29,
   "id": "15fbaf6711e021eb",
   "metadata": {
    "ExecuteTime": {
     "end_time": "2023-11-24T01:08:28.532282Z",
     "start_time": "2023-11-24T01:08:28.507638Z"
    },
    "collapsed": false
   },
   "outputs": [
    {
     "data": {
      "text/plain": [
       "(openai.types.beta.threads.message_content_image_file.MessageContentImageFile,\n",
       " openai.types.beta.threads.message_content_text.MessageContentText)"
      ]
     },
     "execution_count": 29,
     "metadata": {},
     "output_type": "execute_result"
    }
   ],
   "source": [
    "# type(messages.data[0].content[0]), type(messages.data[0].content[1])"
   ]
  }
 ],
 "metadata": {
  "kernelspec": {
   "display_name": "Python 3",
   "language": "python",
   "name": "python3"
  },
  "language_info": {
   "codemirror_mode": {
    "name": "ipython",
    "version": 2
   },
   "file_extension": ".py",
   "mimetype": "text/x-python",
   "name": "python",
   "nbconvert_exporter": "python",
   "pygments_lexer": "ipython2",
   "version": "2.7.6"
  }
 },
 "nbformat": 4,
 "nbformat_minor": 5
}
